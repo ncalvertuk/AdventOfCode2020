{
 "cells": [
  {
   "cell_type": "code",
   "execution_count": 5,
   "metadata": {},
   "outputs": [],
   "source": [
    "# Import CSV library\n",
    "using CSV\n",
    "using Printf\n",
    "\n"
   ]
  },
  {
   "cell_type": "code",
   "execution_count": 4,
   "metadata": {},
   "outputs": [
    {
     "name": "stderr",
     "output_type": "stream",
     "text": [
      "┌ Warning: `CSV.read(input; kw...)` is deprecated in favor of `DataFrame!(CSV.File(input; kw...))`\n",
      "└ @ CSV /Users/ncalvertuk/.juliapro/JuliaPro_v1.4.1-1/packages/CSV/hZ1pV/src/CSV.jl:40\n"
     ]
    },
    {
     "data": {
      "text/plain": [
       "\"270144\""
      ]
     },
     "execution_count": 4,
     "metadata": {},
     "output_type": "execute_result"
    }
   ],
   "source": [
    "# Load in the input data\n",
    "vals = Array(CSV.read(\"Day1Input.csv\",delim=\",\",header=false, type=Float64))\n",
    "# Calculate the sum between each pair using matrices\n",
    "val_array = vals*ones(Float64,1,size(vals,1))\n",
    "sums = val_array + transpose(val_array)\n",
    "@sprintf(\"%.0f\", prod(val_array[sums .== 2020]))"
   ]
  },
  {
   "cell_type": "code",
   "execution_count": 3,
   "metadata": {},
   "outputs": [
    {
     "data": {
      "text/plain": [
       "\"261342720\""
      ]
     },
     "execution_count": 3,
     "metadata": {},
     "output_type": "execute_result"
    }
   ],
   "source": [
    "# Part 2 is to find 3 numbers that meet the same criteria.\n",
    "@sprintf(\"%.0f\", prod(vals[[v in 2020 .- sums for v in vals]]))"
   ]
  },
  {
   "cell_type": "code",
   "execution_count": null,
   "metadata": {},
   "outputs": [],
   "source": []
  }
 ],
 "metadata": {
  "kernelspec": {
   "display_name": "Julia 1.4.1",
   "language": "julia",
   "name": "julia-1.4"
  },
  "language_info": {
   "file_extension": ".jl",
   "mimetype": "application/julia",
   "name": "julia",
   "version": "1.4.1"
  }
 },
 "nbformat": 4,
 "nbformat_minor": 4
}
