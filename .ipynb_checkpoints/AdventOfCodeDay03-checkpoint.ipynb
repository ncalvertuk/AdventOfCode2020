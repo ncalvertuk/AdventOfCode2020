{
 "cells": [
  {
   "cell_type": "code",
   "execution_count": 25,
   "metadata": {},
   "outputs": [
    {
     "name": "stderr",
     "output_type": "stream",
     "text": [
      "┌ Warning: `CSV.read(input; kw...)` is deprecated in favor of `DataFrame!(CSV.File(input; kw...))`\n",
      "└ @ CSV /Users/ncalvertuk/.juliapro/JuliaPro_v1.4.1-1/packages/CSV/hZ1pV/src/CSV.jl:40\n"
     ]
    }
   ],
   "source": [
    "using CSV\n",
    "using DataFrames\n",
    "\n",
    "vals = Array(CSV.read(\"Day3Input.txt\",delim=\"\",header=false));"
   ]
  },
  {
   "cell_type": "code",
   "execution_count": 87,
   "metadata": {},
   "outputs": [],
   "source": [
    "n_trees = []\n",
    "for (r,d) in zip(r_steps,d_steps)\n",
    "    y = collect(1:d:length(vals))\n",
    "    x = mod.((collect(1:length(y)).-1)*r,length(vals[1])).+1\n",
    "    append!(n_trees,sum([vals[y[i]][x[i]]=='#' for i in 1:length(y) ]))\n",
    "    \n",
    "end"
   ]
  },
  {
   "cell_type": "code",
   "execution_count": 90,
   "metadata": {},
   "outputs": [
    {
     "name": "stdout",
     "output_type": "stream",
     "text": [
      "Any[74, 189, 65, 63, 30]\n",
      "1718180100\n"
     ]
    }
   ],
   "source": [
    "println(n_trees)\n",
    "println(prod(n_trees))"
   ]
  },
  {
   "cell_type": "code",
   "execution_count": null,
   "metadata": {},
   "outputs": [],
   "source": []
  }
 ],
 "metadata": {
  "kernelspec": {
   "display_name": "Julia 1.4.1",
   "language": "julia",
   "name": "julia-1.4"
  },
  "language_info": {
   "file_extension": ".jl",
   "mimetype": "application/julia",
   "name": "julia",
   "version": "1.4.1"
  }
 },
 "nbformat": 4,
 "nbformat_minor": 4
}
