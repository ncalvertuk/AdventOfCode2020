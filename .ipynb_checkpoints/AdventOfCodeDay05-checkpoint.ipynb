{
 "cells": [
  {
   "cell_type": "code",
   "execution_count": 28,
   "metadata": {},
   "outputs": [],
   "source": [
    "seat_ids = readlines(\"Day5Input.txt\")\n",
    "cols = []\n",
    "rows = []\n",
    "for s_id in seat_ids\n",
    "    push!(cols,transpose(occursin.(split(s_id[1:7],\"\"),\"B\"))*[64,32,16,8,4,2,1])\n",
    "    push!(rows,transpose(occursin.(split(s_id[8:10],\"\"),\"R\"))*[4,2,1])\n",
    "end\n",
    "prods = (8. .*cols).+rows;\n",
    "\n"
   ]
  },
  {
   "cell_type": "code",
   "execution_count": 30,
   "metadata": {},
   "outputs": [
    {
     "data": {
      "text/plain": [
       "866.0"
      ]
     },
     "execution_count": 30,
     "metadata": {},
     "output_type": "execute_result"
    }
   ],
   "source": [
    "println(maximum(prods))"
   ]
  },
  {
   "cell_type": "code",
   "execution_count": 43,
   "metadata": {},
   "outputs": [
    {
     "name": "stdout",
     "output_type": "stream",
     "text": [
      "[583.0]\n"
     ]
    }
   ],
   "source": [
    "prods_sorted = sort(prods)\n",
    "index = findall(prods_sorted[2:end] - prods_sorted[1:end-1] .>1)\n",
    "println(prods_sorted[2:end][index] .- 1)"
   ]
  },
  {
   "cell_type": "code",
   "execution_count": null,
   "metadata": {},
   "outputs": [],
   "source": []
  }
 ],
 "metadata": {
  "kernelspec": {
   "display_name": "Julia 1.4.1",
   "language": "julia",
   "name": "julia-1.4"
  },
  "language_info": {
   "file_extension": ".jl",
   "mimetype": "application/julia",
   "name": "julia",
   "version": "1.4.1"
  }
 },
 "nbformat": 4,
 "nbformat_minor": 4
}
