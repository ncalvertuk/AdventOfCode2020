{
 "cells": [
  {
   "cell_type": "code",
   "execution_count": 3,
   "metadata": {},
   "outputs": [],
   "source": [
    "using CSV\n",
    "using DataFrames"
   ]
  },
  {
   "cell_type": "code",
   "execution_count": 37,
   "metadata": {},
   "outputs": [],
   "source": [
    "deets = [string(\"\")]\n",
    "i = 1\n",
    "for line in eachline(\"Day4Input.txt\",keep=true)\n",
    "    if line == \"\\n\"\n",
    "        push!(deets,string(\"\"))\n",
    "        i = i+1\n",
    "    else\n",
    "        deets[i] = string(deets[i],line)\n",
    "    end\n",
    "end"
   ]
  },
  {
   "cell_type": "code",
   "execution_count": 47,
   "metadata": {},
   "outputs": [
    {
     "data": {
      "text/plain": [
       "192"
      ]
     },
     "execution_count": 47,
     "metadata": {},
     "output_type": "execute_result"
    }
   ],
   "source": [
    "n_valid = sum([sum(occursin.([\"byr:\",\"iyr\",\"eyr\",\"hgt\",\"hcl\",\"ecl\",\"pid\"], d))==7 for d in deets])"
   ]
  },
  {
   "cell_type": "code",
   "execution_count": 99,
   "metadata": {},
   "outputs": [],
   "source": [
    "is_valid = [sum(occursin.([\"byr:\",\"iyr\",\"eyr\",\"hgt\",\"hcl\",\"ecl\",\"pid\"], d))==7 for d in deets];\n",
    "valid_deets = deets[is_valid];"
   ]
  },
  {
   "cell_type": "code",
   "execution_count": 260,
   "metadata": {},
   "outputs": [],
   "source": [
    "valid_pps = []\n",
    "for pp in valid_deets\n",
    "    pp_dict = Dict()\n",
    "    for d in split(pp ,r\"[ \\n]\")\n",
    "        if d!=\"\"\n",
    "            pairs, txt = split(d, \":\")\n",
    "            pp_dict[pairs]=txt\n",
    "        end\n",
    "    end\n",
    "    append!(valid_pps,check_all(pp_dict))\n",
    "end"
   ]
  },
  {
   "cell_type": "code",
   "execution_count": 120,
   "metadata": {},
   "outputs": [
    {
     "data": {
      "text/plain": [
       "check_year (generic function with 1 method)"
      ]
     },
     "execution_count": 120,
     "metadata": {},
     "output_type": "execute_result"
    }
   ],
   "source": [
    "function check_year(yr,lowr,uppr)\n",
    "     if (length(yr) == 4) & (yr>= lowr) & (yr<= uppr)\n",
    "        return true\n",
    "    else\n",
    "        return false\n",
    "    end\n",
    "end   "
   ]
  },
  {
   "cell_type": "code",
   "execution_count": 259,
   "metadata": {},
   "outputs": [
    {
     "data": {
      "text/plain": [
       "check_all (generic function with 1 method)"
      ]
     },
     "execution_count": 259,
     "metadata": {},
     "output_type": "execute_result"
    }
   ],
   "source": [
    "function check_height(val)\n",
    "    if length(val) < 4\n",
    "        return false\n",
    "        elseif (length(val)==5) & (val[end-1:end] == \"cm\") & (val[1:3] >=\"150\") & (val[1:3] <=\"193\")\n",
    "        return true\n",
    "        \n",
    "    elseif (length(val)==4) & (val[end-1:end] == \"in\") & (val[1:2] >=\"59\") & (val[1:2] <=\"76\")\n",
    "        return true\n",
    "    \n",
    "    else\n",
    "        return false\n",
    "    end  \n",
    "end\n",
    "\n",
    "function check_eye_colour(val)\n",
    "    if (sum(occursin.([\"amb\", \"blu\", \"brn\", \"gry\", \"grn\", \"hzl\", \"oth\"],val))>0) & (length(val)==3)\n",
    "        return true\n",
    "    else\n",
    "        return false  \n",
    "    end\n",
    "end\n",
    "\n",
    "function check_pid(val)\n",
    "    if (length(val) == 9) & (occursin(r\"^[0-9]+$\",val))\n",
    "        return true\n",
    "    else\n",
    "        return false\n",
    "    end\n",
    "end\n",
    "\n",
    "function check_hair_colour(val)\n",
    "    if (length(val)==7) & (val[1] =='#') & occursin(r\"^[0-9 a-f]+$\",val[2:end])\n",
    "        return true\n",
    "    else\n",
    "        return false\n",
    "    end\n",
    "end\n",
    "\n",
    "function check_all(ppdict)\n",
    "    byr = check_year(ppdict[\"byr\"],\"1920\",\"2002\")\n",
    "    iyr = check_year(ppdict[\"iyr\"],\"2010\",\"2020\")\n",
    "    eyr = check_year(ppdict[\"eyr\"],\"2020\",\"2030\")\n",
    "    hgt = check_height(ppdict[\"hgt\"])\n",
    "    ecl = check_eye_colour(ppdict[\"ecl\"])\n",
    "    pid = check_pid(ppdict[\"pid\"])\n",
    "    hcl = check_hair_colour(ppdict[\"hcl\"])\n",
    "    return byr & iyr & eyr & hgt & ecl & pid & hcl\n",
    "end"
   ]
  },
  {
   "cell_type": "code",
   "execution_count": 262,
   "metadata": {},
   "outputs": [
    {
     "name": "stdout",
     "output_type": "stream",
     "text": [
      "101"
     ]
    }
   ],
   "source": [
    "print(sum(valid_pps))"
   ]
  },
  {
   "cell_type": "code",
   "execution_count": null,
   "metadata": {},
   "outputs": [],
   "source": []
  }
 ],
 "metadata": {
  "kernelspec": {
   "display_name": "Julia 1.4.1",
   "language": "julia",
   "name": "julia-1.4"
  },
  "language_info": {
   "file_extension": ".jl",
   "mimetype": "application/julia",
   "name": "julia",
   "version": "1.4.1"
  }
 },
 "nbformat": 4,
 "nbformat_minor": 4
}
