{
 "cells": [
  {
   "cell_type": "code",
   "execution_count": 17,
   "metadata": {},
   "outputs": [],
   "source": [
    "deets = [string(\"\")]\n",
    "n_ppl = [0]\n",
    "i = 1\n",
    "for line in eachline(\"Day6Input.txt\",keep=true)\n",
    "    if line == \"\\n\"\n",
    "        push!(deets,string(\"\"))\n",
    "        push!(n_ppl,0)\n",
    "        i = i+1\n",
    "    else\n",
    "        deets[i] = string(deets[i],line[1:end-1])\n",
    "        n_ppl[i] += 1\n",
    "    end\n",
    "end"
   ]
  },
  {
   "cell_type": "code",
   "execution_count": 15,
   "metadata": {},
   "outputs": [
    {
     "name": "stdout",
     "output_type": "stream",
     "text": [
      "6590\n"
     ]
    }
   ],
   "source": [
    "qs_answered = [length(unique(d)) for d in deets]\n",
    "println(sum(qs_answered))"
   ]
  },
  {
   "cell_type": "code",
   "execution_count": 33,
   "metadata": {},
   "outputs": [
    {
     "data": {
      "text/plain": [
       "3288"
      ]
     },
     "execution_count": 33,
     "metadata": {},
     "output_type": "execute_result"
    }
   ],
   "source": [
    "sum([sum([count(i->(i==d), deet) for d in unique(deet)] .== n) for (deet,n) in zip(deets,n_ppl)])"
   ]
  },
  {
   "cell_type": "code",
   "execution_count": null,
   "metadata": {},
   "outputs": [],
   "source": []
  }
 ],
 "metadata": {
  "kernelspec": {
   "display_name": "Julia 1.4.1",
   "language": "julia",
   "name": "julia-1.4"
  },
  "language_info": {
   "file_extension": ".jl",
   "mimetype": "application/julia",
   "name": "julia",
   "version": "1.4.1"
  }
 },
 "nbformat": 4,
 "nbformat_minor": 4
}
