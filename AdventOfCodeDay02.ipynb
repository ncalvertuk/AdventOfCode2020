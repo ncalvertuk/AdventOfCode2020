{
 "cells": [
  {
   "cell_type": "code",
   "execution_count": 59,
   "metadata": {},
   "outputs": [
    {
     "name": "stdout",
     "output_type": "stream",
     "text": [
      "640\n"
     ]
    },
    {
     "name": "stderr",
     "output_type": "stream",
     "text": [
      "┌ Warning: `CSV.read(input; kw...)` is deprecated in favor of `DataFrame!(CSV.File(input; kw...))`\n",
      "└ @ CSV /Users/ncalvertuk/.juliapro/JuliaPro_v1.4.1-1/packages/CSV/hZ1pV/src/CSV.jl:40\n"
     ]
    }
   ],
   "source": [
    "using CSV\n",
    "\n",
    "vals = Array(CSV.read(\"Day2Input.csv\",delim=\",\",header=false));\n",
    "check_arr = []\n",
    "for v in vals\n",
    "    m_dash = match(r\"[-]\", v)\n",
    "    m_spc = match(r\"[ ]\", v)\n",
    "    m_colon = match(r\"[:]\", v)\n",
    "    n1 = parse(Int,v[1:m_dash.offset-1])\n",
    "    n2 = parse(Int,v[m_dash.offset+1:m_spc.offset-1])\n",
    "    letter = v[m_colon.offset-1]\n",
    "    password = v[m_colon.offset+2:end]\n",
    "    c = count(i->(i==letter), password)\n",
    "    if c >= min(n1,n2) && c <= max(n1,n2)\n",
    "        append!(check_arr,true)\n",
    "    else\n",
    "        append!(check_arr,false)\n",
    "    end\n",
    "end\n",
    "println(sum(check_arr))"
   ]
  },
  {
   "cell_type": "code",
   "execution_count": 66,
   "metadata": {},
   "outputs": [
    {
     "name": "stdout",
     "output_type": "stream",
     "text": [
      "472\n"
     ]
    }
   ],
   "source": [
    "check_arr = []\n",
    "for v in vals\n",
    "    m_dash = match(r\"[-]\", v)\n",
    "    m_spc = match(r\"[ ]\", v)\n",
    "    m_colon = match(r\"[:]\", v)\n",
    "    n1 = parse(Int,v[1:m_dash.offset-1])\n",
    "    n2 = parse(Int,v[m_dash.offset+1:m_spc.offset-1])\n",
    "    letter = v[m_colon.offset-1]\n",
    "    password = v[m_colon.offset+2:end]\n",
    "    if max(n1,n2) > length(password)\n",
    "        c = 0\n",
    "    else\n",
    "        c = count(i->(i==letter), password[[n1,n2]])\n",
    "    end\n",
    "    if c == 1\n",
    "        append!(check_arr,true)\n",
    "    else\n",
    "        append!(check_arr,false)\n",
    "    end\n",
    "end\n",
    "println(sum(check_arr))"
   ]
  },
  {
   "cell_type": "code",
   "execution_count": null,
   "metadata": {},
   "outputs": [],
   "source": []
  }
 ],
 "metadata": {
  "kernelspec": {
   "display_name": "Julia 1.4.1",
   "language": "julia",
   "name": "julia-1.4"
  },
  "language_info": {
   "file_extension": ".jl",
   "mimetype": "application/julia",
   "name": "julia",
   "version": "1.4.1"
  }
 },
 "nbformat": 4,
 "nbformat_minor": 4
}
